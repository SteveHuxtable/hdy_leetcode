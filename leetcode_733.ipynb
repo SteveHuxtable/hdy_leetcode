{
 "metadata": {
  "language_info": {
   "codemirror_mode": {
    "name": "ipython",
    "version": 3
   },
   "file_extension": ".py",
   "mimetype": "text/x-python",
   "name": "python",
   "nbconvert_exporter": "python",
   "pygments_lexer": "ipython3",
   "version": "3.7.7-final"
  },
  "orig_nbformat": 2,
  "kernelspec": {
   "name": "python3",
   "display_name": "Python 3"
  }
 },
 "nbformat": 4,
 "nbformat_minor": 2,
 "cells": [
  {
   "cell_type": "markdown",
   "metadata": {},
   "source": [
    "#### Daily question - 20200816 - 733\n",
    "- 问题：给一二维数组，之后给定坐标（sr，sc），将该坐标的数值替换，而后向上下左右扫描，将所有数值相等的点都用该替换的数值进行替换。\n",
    "- 思考：首先题目的数据结构用普通的list即可。之后问题就是普通的遍历问题，遍历过程需要根据题设判断是否需要染色，以及用list的形状控制遍历的停止。\n",
    "- 输入: \n",
    "> image = \\[\\[1,1,1\\],\\[1,1,0\\],\\[1,0,1\\]\\]\n",
    "> sr = 1, sc = 1, newColor = 2\n",
    "> 输出: \\[\\[2,2,2\\],\\[2,2,0\\],\\[2,0,1\\]\\]\n",
    "\n",
    "> 来源：力扣（LeetCode）\n",
    "> 链接：https://leetcode-cn.com/problems/flood-fill\n",
    "> 著作权归领扣网络所有。商业转载请联系官方授权，非商业转载请注明出处。"
   ]
  },
  {
   "cell_type": "code",
   "execution_count": 9,
   "metadata": {
    "tags": []
   },
   "outputs": [
    {
     "output_type": "execute_result",
     "data": {
      "text/plain": "[[2, 2, 2], [2, 2, 0], [2, 0, 1]]"
     },
     "metadata": {},
     "execution_count": 9
    }
   ],
   "source": [
    "from collections import deque\n",
    "\n",
    "test_image = [[1, 1, 1],[1, 1, 0], [1, 0, 1]]\n",
    "sr = 1; sc = 1; newColor = 2\n",
    "\n",
    "def paint_pic_bfs (image, sr, sc, newColor):\n",
    "    # prepare\n",
    "    concurr_color = image[sr][sc]\n",
    "    x_min = 0; x_max = len(image[0]) - 1\n",
    "    y_min = 0; y_max = len(image[0]) - 1\n",
    "    if(concurr_color == newColor):\n",
    "        return image\n",
    "    \n",
    "    # paint the first pixel, and then bfs the whole picture\n",
    "    image[sr][sc] = newColor\n",
    "    paint_que = deque([(sr, sc)])\n",
    "    while paint_que:\n",
    "        curr_x, curr_y = paint_que.popleft()\n",
    "        for next_x, next_y in [(curr_x, curr_y - 1), (curr_x + 1, curr_y), (curr_x, curr_y + 1), (curr_x - 1, curr_y)]:\n",
    "            # this point should in the proper range\n",
    "            if (x_min <= next_x <= x_max) and (y_min <= next_y <= y_max) and (concurr_color == image[next_x][next_y]):\n",
    "                image[next_x][next_y] = newColor\n",
    "                paint_que.append((next_x, next_y))\n",
    "\n",
    "    # return the image\n",
    "    return image\n",
    "\n",
    "# apply the function\n",
    "paint_pic_bfs(test_image, sr, sc, newColor)\n",
    "    "
   ]
  }
 ]
}