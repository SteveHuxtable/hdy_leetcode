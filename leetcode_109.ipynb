{
 "metadata": {
  "language_info": {
   "codemirror_mode": {
    "name": "ipython",
    "version": 3
   },
   "file_extension": ".py",
   "mimetype": "text/x-python",
   "name": "python",
   "nbconvert_exporter": "python",
   "pygments_lexer": "ipython3",
   "version": "3.7.7-final"
  },
  "orig_nbformat": 2,
  "kernelspec": {
   "name": "python3",
   "display_name": "Python 3"
  }
 },
 "nbformat": 4,
 "nbformat_minor": 2,
 "cells": [
  {
   "cell_type": "markdown",
   "metadata": {},
   "source": [
    "# leetcode - 109\n",
    "> 给定一个单链表，其中的元素按升序排序，将其转换为高度平衡的二叉搜索树。\n",
    "> 本题中，一个高度平衡二叉树是指一个二叉树每个节点 的左右两个子树的高度差的绝对值不超过 1。\n",
    "示例:\n",
    "\n",
    "给定的有序链表： \\[-10, -3, 0, 5, 9\\]\n",
    "\n",
    "一个可能的答案是：\\[0, -3, 9, -10, null, 5\\], 它可以表示下面这个高度平衡二叉搜索树：\n",
    "\n",
    "来源：力扣（LeetCode）\n",
    "链接：https://leetcode-cn.com/problems/convert-sorted-list-to-binary-search-tree\n",
    "著作权归领扣网络所有。商业转载请联系官方授权，非商业转载请注明出处。\n",
    "\n",
    "来源：力扣（LeetCode）\n",
    "链接：https://leetcode-cn.com/problems/convert-sorted-list-to-binary-search-tree\n",
    "著作权归领扣网络所有。商业转载请联系官方授权，非商业转载请注明出处。"
   ]
  },
  {
   "cell_type": "code",
   "execution_count": 35,
   "metadata": {
    "tags": []
   },
   "outputs": [
    {
     "output_type": "stream",
     "name": "stdout",
     "text": "[-10, -3, 0, 5, 9]\n"
    }
   ],
   "source": [
    "# Definition for singly-linked list.\n",
    "class ListNode:\n",
    "    def __init__(self, val=0, next=None):\n",
    "        self.val = val\n",
    "        self.next = next\n",
    "\n",
    "# transfer the input string into a linked list\n",
    "intput_string = \"   [-10, -3, 0, 5, 9]\"\n",
    "input_list = intput_string.strip()\n",
    "input_list = input_list[1:-1]\n",
    "input_num_list = [int(s.strip()) for s in input_list.split(',')]\n",
    "print(input_num_list)\n",
    "\n",
    "def string_to_ListNode(input_list):\n",
    "    dummy_root = ListNode(0)\n",
    "    ptr = dummy_root\n",
    "    for num in input_list:\n",
    "        ptr.next = ListNode(num)\n",
    "        ptr = ptr.next\n",
    "\n",
    "    return dummy_root.next\n",
    "\n",
    "def traverse_ListNode(input_root=None):\n",
    "    ptr = input_root\n",
    "    print(ptr.val)\n",
    "    while ptr.next != None:\n",
    "        print(ptr.next.val)\n",
    "        ptr = ptr.next"
   ]
  },
  {
   "cell_type": "code",
   "execution_count": null,
   "metadata": {},
   "outputs": [],
   "source": [
    "# transform the ListNode into a balanced tree\n",
    "def ListNode_to_Tree(head=None):\n",
    "    def get_length(head=None):\n",
    "        length = 0\n",
    "        while input_ListNode:\n",
    "            length += 1\n",
    "            head = head.next\n",
    "        return head\n",
    "    \n",
    "    def build_tree(left, right):\n",
    "        if left > right:\n",
    "            return None\n",
    "        \n",
    "        mid = (left + right + 1) // 2\n",
    "        root = TreeNode()\n",
    "        root.left = ListNode_to_Tree(left, mid-1)\n",
    "        nonlocal head\n",
    "        root.val = head.val\n",
    "        head = head.next\n",
    "        root.right = ListNode_to_Tree(mid+1, right)\n",
    "        return root"
   ]
  }
 ]
}