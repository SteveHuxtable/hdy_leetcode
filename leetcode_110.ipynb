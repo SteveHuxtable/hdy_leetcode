{
 "metadata": {
  "language_info": {
   "codemirror_mode": {
    "name": "ipython",
    "version": 3
   },
   "file_extension": ".py",
   "mimetype": "text/x-python",
   "name": "python",
   "nbconvert_exporter": "python",
   "pygments_lexer": "ipython3",
   "version": "3.7.7-final"
  },
  "orig_nbformat": 2,
  "kernelspec": {
   "name": "python3",
   "display_name": "Python 3"
  }
 },
 "nbformat": 4,
 "nbformat_minor": 2,
 "cells": [
  {
   "cell_type": "markdown",
   "metadata": {},
   "source": [
    "#### Daily question - 20200817 - 110\n",
    "- 问题：给定一个二叉树，判断它是否是高度平衡的二叉树。\n",
    "- 思考：首先，对于二叉树的遍历，如果由上而下递归地计算出每个节点的高度，在发现不平衡的节点时返回False的方法是可行的，然而该方法的时间复杂度为$O(n^2)$，能否有更好的解法？\n",
    "- 更好的解法是对二叉树进行后续遍历，一旦发现不平衡的情况就返回False。由于过程中每个节点的高度都可以被重复利用，该算法的时间复杂度为$O(n)$。\n",
    "\n",
    "- 输入: \n",
    "> \\[3,9,20,null,null,15,7\\]\n",
    "> True\n",
    "> \\[1,2,2,3,3,null,null,4,4\\]\n",
    "> False\n",
    "\n",
    "> 来源：力扣（LeetCode）\n",
    "> 链接：https://leetcode-cn.com/problems/flood-fill\n",
    "> 著作权归领扣网络所有。商业转载请联系官方授权，非商业转载请注明出处。"
   ]
  },
  {
   "cell_type": "code",
   "execution_count": 13,
   "metadata": {
    "tags": []
   },
   "outputs": [
    {
     "output_type": "stream",
     "name": "stdout",
     "text": "['this', 'is', 'string', 'example....wow!!!']\n"
    }
   ],
   "source": [
    "str = \"this is string example....wow!!!\"\n",
    "print (str.split( ))       # 以空格为分隔符"
   ]
  },
  {
   "cell_type": "code",
   "execution_count": 18,
   "metadata": {
    "tags": []
   },
   "outputs": [
    {
     "output_type": "stream",
     "name": "stdout",
     "text": "3,9,20,null,null,15,7\n"
    }
   ],
   "source": [
    "# Definition for a binary tree node.\n",
    "test_tree = \"[3,9,20,null,null,15,7]\"\n",
    "\n",
    "class TreeNode:\n",
    "    def __init__(self, x):\n",
    "        self.val = x\n",
    "        self.left = None\n",
    "        self.right = None\n",
    "\n",
    "class Solution:\n",
    "    def isBalanced(self, root: TreeNode) -> bool:\n",
    "        return self.recur(root) != -1\n",
    "\n",
    "    def recur(self, root):\n",
    "        if not root: return 0\n",
    "        left = self.recur(root.left)\n",
    "        if left == -1: return -1\n",
    "        right = self.recur(root.right)\n",
    "        if right == -1: return -1\n",
    "        return max(left, right) + 1 if abs(left - right) < 2 else -1\n",
    "\n",
    "def stringToTreeNode(input):\n",
    "    input = input.strip()\n",
    "    input = input[1:-1]\n",
    "    if not input:\n",
    "        return None\n",
    "\n",
    "    inputValues = [s.strip() for s in input.split(',')]\n",
    "    root = TreeNode(int(inputValues[0]))\n",
    "    nodeQueue = [root]\n",
    "    front = 0\n",
    "    index = 1\n",
    "    while index < len(inputValues):\n",
    "        node = nodeQueue[front]\n",
    "        front = front + 1\n",
    "\n",
    "        item = inputValues[index]\n",
    "        index = index + 1\n",
    "        if item != \"null\":\n",
    "            leftNumber = int(item)\n",
    "            node.left = TreeNode(leftNumber)\n",
    "            nodeQueue.append(node.left)\n",
    "\n",
    "        if index >= len(inputValues):\n",
    "            break\n",
    "\n",
    "        item = inputValues[index]\n",
    "        index = index + 1\n",
    "        if item != \"null\":\n",
    "            rightNumber = int(item)\n",
    "            node.right = TreeNode(rightNumber)\n",
    "            nodeQueue.append(node.right)\n",
    "    return root\n",
    "\n",
    "stringToTreeNode(test_tree)\n",
    "test_tree = test_tree.strip()\n",
    "test_tree = test_tree[1:-1]\n",
    "print(test_tree)"
   ]
  },
  {
   "cell_type": "code",
   "execution_count": null,
   "metadata": {},
   "outputs": [],
   "source": []
  }
 ]
}